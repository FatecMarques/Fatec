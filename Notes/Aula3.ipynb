{
 "cells": [
  {
   "cell_type": "code",
   "execution_count": 2,
   "id": "a330d374",
   "metadata": {},
   "outputs": [
    {
     "name": "stdout",
     "output_type": "stream",
     "text": [
      "Hello Word!!\n"
     ]
    }
   ],
   "source": [
    "print(\"Hello Word!!\")"
   ]
  },
  {
   "cell_type": "code",
   "execution_count": 4,
   "id": "8f075a0e",
   "metadata": {},
   "outputs": [
    {
     "data": {
      "text/plain": [
       "True"
      ]
     },
     "execution_count": 4,
     "metadata": {},
     "output_type": "execute_result"
    }
   ],
   "source": [
    "True"
   ]
  },
  {
   "cell_type": "markdown",
   "id": "349bb0d7",
   "metadata": {},
   "source": [
    "# TIPOS DE DADOS"
   ]
  },
  {
   "cell_type": "markdown",
   "id": "d4c83a81",
   "metadata": {},
   "source": [
    "### STRING"
   ]
  },
  {
   "cell_type": "code",
   "execution_count": 6,
   "id": "996ccdcc",
   "metadata": {},
   "outputs": [
    {
     "data": {
      "text/plain": [
       "'Esse é um texto do tipo String de aspas triplas duplas.'"
      ]
     },
     "execution_count": 6,
     "metadata": {},
     "output_type": "execute_result"
    }
   ],
   "source": [
    "'Esse é um texto do tipo String de aspas simples.'\n",
    "\"Esse é um texto do tipo String de aspas duplas.\"\n",
    "'''Esse é um texto do tipo String de aspas triplas simples.'''\n",
    "\"\"\"Esse é um texto do tipo String de aspas triplas duplas.\"\"\"\n"
   ]
  },
  {
   "cell_type": "markdown",
   "id": "037f9af9",
   "metadata": {},
   "source": [
    "### CASOS ESPECIAIS DAS STRINGS"
   ]
  },
  {
   "cell_type": "markdown",
   "id": "b49ace71",
   "metadata": {},
   "source": [
    "ESCAPE CHARACTER"
   ]
  },
  {
   "cell_type": "code",
   "execution_count": 8,
   "id": "c30b0fc7",
   "metadata": {},
   "outputs": [
    {
     "data": {
      "text/plain": [
       "'\"don\\'t look at me\"'"
      ]
     },
     "execution_count": 8,
     "metadata": {},
     "output_type": "execute_result"
    }
   ],
   "source": [
    "\"\\\"don't look at me\\\"\" # invisible(invisivel) characters"
   ]
  },
  {
   "cell_type": "code",
   "execution_count": 10,
   "id": "94ce9782",
   "metadata": {},
   "outputs": [
    {
     "name": "stdout",
     "output_type": "stream",
     "text": [
      "\"don't look at me\"\n"
     ]
    }
   ],
   "source": [
    "print(\"\\\"don't look at me\\\"\")"
   ]
  },
  {
   "cell_type": "code",
   "execution_count": 11,
   "id": "089a5d44",
   "metadata": {},
   "outputs": [
    {
     "data": {
      "text/plain": [
       "'\\n'"
      ]
     },
     "execution_count": 11,
     "metadata": {},
     "output_type": "execute_result"
    }
   ],
   "source": [
    "\"\\n\""
   ]
  },
  {
   "cell_type": "code",
   "execution_count": 18,
   "id": "8388b07d",
   "metadata": {},
   "outputs": [
    {
     "name": "stdout",
     "output_type": "stream",
     "text": [
      "Olá mundo.\n",
      "Meu nome é Marcos\n",
      "Olá mundo. Meu nome é Marcos\n",
      "Olá mundo.\t Meu nome é Marcos\n"
     ]
    }
   ],
   "source": [
    "print(\"Olá mundo.\\nMeu nome é Marcos\")\n",
    "print(\"Olá mundo. Meu nome é Marcos\")\n",
    "print(\"Olá mundo.\\t Meu nome é Marcos\")"
   ]
  },
  {
   "cell_type": "markdown",
   "id": "9fa26de0",
   "metadata": {},
   "source": [
    "## DESAFIO 1: em duas linhas imprima boas vindas ao usuário."
   ]
  },
  {
   "cell_type": "code",
   "execution_count": null,
   "id": "7e8edbf0",
   "metadata": {},
   "outputs": [
    {
     "ename": "",
     "evalue": "",
     "output_type": "error",
     "traceback": [
      "\u001b[1;31mRunning cells with 'Python 3.7.8 64-bit' requires ipykernel package.\n",
      "Run the following command to install 'ipykernel' into the Python environment. \n",
      "Command: '\"C:/Program Files (x86)/Microsoft Visual Studio/Shared/Python37_64/python.exe\" -m pip install ipykernel -U --user --force-reinstall'"
     ]
    }
   ],
   "source": [
    "# solução 1\n",
    "# dados = input(\"Digite seu nome e idade: \").split()\n",
    "# print(f\"Olá {dados[0]}.\\nSua idade é {dados[1]}.\")\n",
    "\n",
    "# OU\n",
    "\n",
    "# dados = input(\"Digite seu nome e idade: \").split()\n",
    "# print(\"Olá {}.\\nSua idade é {}.\".format(dados[0], dados[1]))\n",
    "\n",
    "#solução 2\n",
    "\n",
    "nome, idade = input(\"Digite seu nome e idade: \").split()\n",
    "print(f\"Olá {nome}.\\nSua idade é {idade}.\")"
   ]
  },
  {
   "cell_type": "markdown",
   "id": "0ccd8803",
   "metadata": {},
   "source": [
    "### SPLIT\n"
   ]
  },
  {
   "cell_type": "code",
   "execution_count": null,
   "id": "ed87dd3b",
   "metadata": {},
   "outputs": [],
   "source": [
    "# lista, sempre separada por virgulas sem espaço\n",
    "\"nome,idade,cpf,email\".split(\",\")"
   ]
  },
  {
   "cell_type": "markdown",
   "id": "93ec56d1",
   "metadata": {},
   "source": [
    "### MANIPULANDO STRINGS / TEXTO"
   ]
  },
  {
   "cell_type": "code",
   "execution_count": 1,
   "id": "885603f5",
   "metadata": {},
   "outputs": [
    {
     "name": "stdout",
     "output_type": "stream",
     "text": [
      "\n",
      "COD,NOME,SIGLA\n",
      "35,São Paulo, SP\n",
      "41,Paraná, PR\n",
      "42,Santa Catarina, SC\n",
      "43,Rio Grande do Sul, RS\n",
      "50,Mato Grosso do Sul, MS\n",
      "11,Rondônia, RO\n",
      "12,Acre, AC\n",
      "13,Amazonas, AM\n",
      "14,Roraima, RR\n",
      "15,Pará, PA\n",
      "16,Amapá, AP\n",
      "17,Tocantins, TO\n",
      "21,Maranhão, MA\n",
      "24,Rio Grande do Norte, RN\n",
      "25,Paraíba, PB\n",
      "26,Pernambuco, PE\n",
      "27,Alagoas, AL\n",
      "28,Sergipe, SE\n",
      "29,Bahia, BA\n",
      "31,Minas Gerais, MG\n",
      "33,Rio de Janeiro, RJ\n",
      "51,Mato Grosso, MT\n",
      "52,Goiás, GO\n",
      "53,Distrito Federal, DF\n",
      "22,Piauí, PI\n",
      "23,Ceará, CE\n",
      "32,Espírito Santo, ES\n",
      "\n"
     ]
    }
   ],
   "source": [
    "estados = \"\"\"\n",
    "COD,NOME,SIGLA\n",
    "35,São Paulo, SP\n",
    "41,Paraná, PR\n",
    "42,Santa Catarina, SC\n",
    "43,Rio Grande do Sul, RS\n",
    "50,Mato Grosso do Sul, MS\n",
    "11,Rondônia, RO\n",
    "12,Acre, AC\n",
    "13,Amazonas, AM\n",
    "14,Roraima, RR\n",
    "15,Pará, PA\n",
    "16,Amapá, AP\n",
    "17,Tocantins, TO\n",
    "21,Maranhão, MA\n",
    "24,Rio Grande do Norte, RN\n",
    "25,Paraíba, PB\n",
    "26,Pernambuco, PE\n",
    "27,Alagoas, AL\n",
    "28,Sergipe, SE\n",
    "29,Bahia, BA\n",
    "31,Minas Gerais, MG\n",
    "33,Rio de Janeiro, RJ\n",
    "51,Mato Grosso, MT\n",
    "52,Goiás, GO\n",
    "53,Distrito Federal, DF\n",
    "22,Piauí, PI\n",
    "23,Ceará, CE\n",
    "32,Espírito Santo, ES\n",
    "\"\"\"\n",
    "print(estados)"
   ]
  },
  {
   "cell_type": "code",
   "execution_count": 3,
   "id": "82611af8",
   "metadata": {},
   "outputs": [
    {
     "data": {
      "text/plain": [
       "['COD,NOME,SIGLA',\n",
       " '35,São',\n",
       " 'Paulo,',\n",
       " 'SP',\n",
       " '41,Paraná,',\n",
       " 'PR',\n",
       " '42,Santa',\n",
       " 'Catarina,',\n",
       " 'SC',\n",
       " '43,Rio',\n",
       " 'Grande',\n",
       " 'do',\n",
       " 'Sul,',\n",
       " 'RS',\n",
       " '50,Mato',\n",
       " 'Grosso',\n",
       " 'do',\n",
       " 'Sul,',\n",
       " 'MS',\n",
       " '11,Rondônia,',\n",
       " 'RO',\n",
       " '12,Acre,',\n",
       " 'AC',\n",
       " '13,Amazonas,',\n",
       " 'AM',\n",
       " '14,Roraima,',\n",
       " 'RR',\n",
       " '15,Pará,',\n",
       " 'PA',\n",
       " '16,Amapá,',\n",
       " 'AP',\n",
       " '17,Tocantins,',\n",
       " 'TO',\n",
       " '21,Maranhão,',\n",
       " 'MA',\n",
       " '24,Rio',\n",
       " 'Grande',\n",
       " 'do',\n",
       " 'Norte,',\n",
       " 'RN',\n",
       " '25,Paraíba,',\n",
       " 'PB',\n",
       " '26,Pernambuco,',\n",
       " 'PE',\n",
       " '27,Alagoas,',\n",
       " 'AL',\n",
       " '28,Sergipe,',\n",
       " 'SE',\n",
       " '29,Bahia,',\n",
       " 'BA',\n",
       " '31,Minas',\n",
       " 'Gerais,',\n",
       " 'MG',\n",
       " '33,Rio',\n",
       " 'de',\n",
       " 'Janeiro,',\n",
       " 'RJ',\n",
       " '51,Mato',\n",
       " 'Grosso,',\n",
       " 'MT',\n",
       " '52,Goiás,',\n",
       " 'GO',\n",
       " '53,Distrito',\n",
       " 'Federal,',\n",
       " 'DF',\n",
       " '22,Piauí,',\n",
       " 'PI',\n",
       " '23,Ceará,',\n",
       " 'CE',\n",
       " '32,Espírito',\n",
       " 'Santo,',\n",
       " 'ES']"
      ]
     },
     "execution_count": 3,
     "metadata": {},
     "output_type": "execute_result"
    }
   ],
   "source": [
    "estados.split()"
   ]
  },
  {
   "cell_type": "code",
   "execution_count": 6,
   "id": "12fb5902",
   "metadata": {},
   "outputs": [
    {
     "data": {
      "text/plain": [
       "['',\n",
       " 'COD,NOME,SIGLA',\n",
       " '35,São Paulo, SP',\n",
       " '41,Paraná, PR',\n",
       " '42,Santa Catarina, SC',\n",
       " '43,Rio Grande do Sul, RS',\n",
       " '50,Mato Grosso do Sul, MS',\n",
       " '11,Rondônia, RO',\n",
       " '12,Acre, AC',\n",
       " '13,Amazonas, AM',\n",
       " '14,Roraima, RR',\n",
       " '15,Pará, PA',\n",
       " '16,Amapá, AP',\n",
       " '17,Tocantins, TO',\n",
       " '21,Maranhão, MA',\n",
       " '24,Rio Grande do Norte, RN',\n",
       " '25,Paraíba, PB',\n",
       " '26,Pernambuco, PE',\n",
       " '27,Alagoas, AL',\n",
       " '28,Sergipe, SE',\n",
       " '29,Bahia, BA',\n",
       " '31,Minas Gerais, MG',\n",
       " '33,Rio de Janeiro, RJ',\n",
       " '51,Mato Grosso, MT',\n",
       " '52,Goiás, GO',\n",
       " '53,Distrito Federal, DF',\n",
       " '22,Piauí, PI',\n",
       " '23,Ceará, CE',\n",
       " '32,Espírito Santo, ES',\n",
       " '']"
      ]
     },
     "execution_count": 6,
     "metadata": {},
     "output_type": "execute_result"
    }
   ],
   "source": [
    "estados.split(\"\\n\")"
   ]
  },
  {
   "cell_type": "code",
   "execution_count": 12,
   "id": "e8300fb0",
   "metadata": {},
   "outputs": [],
   "source": [
    "alunos = [\n",
    "    \"pablo\",\n",
    "    \"nicolas a.\",\n",
    "    \"raquel\",\n",
    "    \"patrick\",\n",
    "    \"lucas\",\n",
    "    \"rafael\",\n",
    "    \"rodolpho\",\n",
    "    \"natali\",\n",
    "    \"victor\",\n",
    "    \"thiago\",\n",
    "    \"roberval\",\n",
    "    \"vinicius\",\n",
    "    \"marcos\",\n",
    "    \"rodrigo\",\n",
    "    \"renan\",\n",
    "    \"nicolas f.\",\n",
    "    \"thalith\",\n",
    "    \"watuse\",\n",
    "    \"victoria\"\n",
    "]"
   ]
  },
  {
   "cell_type": "code",
   "execution_count": 35,
   "id": "a5c7f6aa",
   "metadata": {},
   "outputs": [],
   "source": [
    "# import random\n",
    "\n",
    "# alunos.pop(alunos.index(random.choice(alunos)))"
   ]
  },
  {
   "cell_type": "markdown",
   "id": "373d44f1",
   "metadata": {},
   "source": [
    "# RESIQUISITOS PARA SER UM DEV DE RESPEITO"
   ]
  },
  {
   "cell_type": "markdown",
   "id": "0a21cbea",
   "metadata": {},
   "source": [
    "* Python: lógica de programação, portifólio, projetos e softwares criados(que resolvam problemas úteis)\n",
    "* Banco de dados: CSV, SQL: Sqlite3, Postgres, MySQL\n",
    "* Bibliotecas: Web (Flask, FastAPI, \"DJANGO eu não recomendo), DS (pandas, numpy, tensor flow, spark)\n",
    "* Processos/programação em nuvem: GCP, AWS, Heroku. (https://www.youtube.com/watch?v=TLRW_xTnQwY&t=1091s)"
   ]
  },
  {
   "cell_type": "markdown",
   "id": "f910c727",
   "metadata": {},
   "source": [
    "### OUTROS TIPOS DE STRING / TEXTO"
   ]
  },
  {
   "cell_type": "code",
   "execution_count": 50,
   "id": "5e432cd2",
   "metadata": {},
   "outputs": [
    {
     "data": {
      "text/plain": [
       "b'marcos'"
      ]
     },
     "execution_count": 50,
     "metadata": {},
     "output_type": "execute_result"
    }
   ],
   "source": [
    "r\"raw string\" # texto seco, ou cru, literal\n",
    "b\"encoded text\" # texto binarizado, encodado\n",
    "\n",
    "# o teste gerou erro, foi necessario identificar como trasnformar o resultado em padrão binario ...(pesquisar)\n",
    "\n",
    "\"marcos\".encode(\"ascii\")"
   ]
  },
  {
   "cell_type": "markdown",
   "id": "e935ea29",
   "metadata": {},
   "source": [
    "### LISTAS - Mutáveis"
   ]
  },
  {
   "cell_type": "code",
   "execution_count": 45,
   "id": "98ea9d3f",
   "metadata": {},
   "outputs": [
    {
     "data": {
      "text/plain": [
       "'pêssego'"
      ]
     },
     "execution_count": 45,
     "metadata": {},
     "output_type": "execute_result"
    }
   ],
   "source": [
    "# considerar que o indice sempre inicia em 0\n",
    "# considerar o indice negativo\n",
    "\n",
    "frutas = [\"tomate\", \"maça\", \"morango\", \"banana\", \"pêra\", \"pêssego\", \"bergamota\"]\n",
    "frutas[-2]"
   ]
  },
  {
   "cell_type": "code",
   "execution_count": null,
   "id": "14da3189",
   "metadata": {},
   "outputs": [],
   "source": [
    "# dados = input(\"Digite seu nome e sobrenome:  \").splyt\n",
    "# print(dados[0])\n",
    "\n",
    "nome, sobrenome = input( \"Digite seu nome e sobrenome\").split()\n",
    "print(f\"{nome[0]}{sobrenome[0]}\")\n",
    "print(nome[0] + sobrenome[0])\n",
    "print(nome[0], sobrenome[0], sep=\" \")"
   ]
  },
  {
   "cell_type": "markdown",
   "id": "20a55296",
   "metadata": {},
   "source": [
    "## FUNÇÕES"
   ]
  },
  {
   "cell_type": "markdown",
   "id": "08f8dedd",
   "metadata": {},
   "source": [
    "### CRIANDO FUNÇOES PRÓPRIAS"
   ]
  },
  {
   "cell_type": "markdown",
   "id": "6bf7d1b0",
   "metadata": {},
   "source": [
    "* função dummy"
   ]
  },
  {
   "cell_type": "code",
   "execution_count": null,
   "id": "0dbb325f",
   "metadata": {},
   "outputs": [],
   "source": [
    "# criação de função\n",
    "\n",
    "def minha_funcao():\n",
    "    ... # pass (..., 1 ou pass para endline)\n",
    "    \n",
    "\n",
    "# chamada de funçao\n",
    "minha_funcao()"
   ]
  },
  {
   "cell_type": "code",
   "execution_count": 11,
   "id": "d4f4bfb2",
   "metadata": {},
   "outputs": [
    {
     "name": "stdout",
     "output_type": "stream",
     "text": [
      "5coisas\n"
     ]
    }
   ],
   "source": [
    "# parâmetro padrão\n",
    "\n",
    "def func2(parametro1=\"\", parametro2=\"\"):\n",
    "    return parametro1 + parametro2\n",
    "    \n",
    "valor = func2(\"5\",\"coisas\")\n",
    "print(valor)\n",
    "\n",
    "\n",
    "# parâmetro obrigatório\n",
    "\n",
    "def func3(parametro1=\"\", parametro2=\"\"):\n",
    "    return parametro1 + parametro2\n",
    "    \n",
    "valor = func3(\"5\",\"coisas\")\n",
    "print(valor)\n",
    "\n"
   ]
  },
  {
   "cell_type": "code",
   "execution_count": null,
   "id": "bde014a2",
   "metadata": {},
   "outputs": [],
   "source": []
  }
 ],
 "metadata": {
  "kernelspec": {
   "display_name": "Python 3 (ipykernel)",
   "language": "python",
   "name": "python3"
  },
  "language_info": {
   "codemirror_mode": {
    "name": "ipython",
    "version": 3
   },
   "file_extension": ".py",
   "mimetype": "text/x-python",
   "name": "python",
   "nbconvert_exporter": "python",
   "pygments_lexer": "ipython3",
   "version": "3.7.8"
  }
 },
 "nbformat": 4,
 "nbformat_minor": 5
}
