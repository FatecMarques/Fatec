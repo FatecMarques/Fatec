{
 "cells": [
  {
   "cell_type": "markdown",
   "id": "0b76ed85",
   "metadata": {},
   "source": [
    "#  COISAS IMPORTANTES"
   ]
  },
  {
   "cell_type": "markdown",
   "id": "78aec999",
   "metadata": {},
   "source": [
    "O codigo fonte deve ser rigorosamente seguido.\n",
    "\n",
    "e.g (exemplo)\n",
    "\n",
    "* 1\n",
    "\n",
    "Não faça isso:\n",
    "Texto sem formatação ou sem indentação\n",
    "\n",
    "* 2\n",
    "\n",
    "correto:\n",
    "print(1) \n",
    "\n",
    "errado:\n",
    "print (1)\n",
    "print( 1 )\n",
    "\n",
    "Evite espaços nas funções e nos objetos\n",
    "\n",
    "* 3 \n",
    "\n",
    "Contudo, ->adicione<- ESPAÇOS entre variáveis e valores, e entre valores e valores\n",
    "\n",
    "Exemplo correto:\n",
    "\n",
    "variavel = 4 \n",
    "\n",
    "3 + 3\n",
    "\n",
    "\n",
    "Exemplo incorreto:\n",
    "\n",
    "variavel=4 \n",
    "\n",
    "3+3\n",
    "\n"
   ]
  },
  {
   "cell_type": "markdown",
   "id": "416fd20b",
   "metadata": {},
   "source": [
    "# DRY"
   ]
  },
  {
   "cell_type": "code",
   "execution_count": 2,
   "id": "02301d13",
   "metadata": {},
   "outputs": [
    {
     "name": "stdout",
     "output_type": "stream",
     "text": [
      "Olá estranho, seja bem vindo\n",
      "Selecione as opções abaixo: \n",
      "[1] - Café\n",
      "[2] - Capuccino\n",
      "[3] - Macchiato\n",
      "[4] - Expresso\n",
      "[5] - Chá\n",
      ">>> 5\n"
     ]
    }
   ],
   "source": [
    "# Do not repeat yourself (Evite repetições)\n",
    "\n",
    "print(\"Olá estranho, seja bem vindo\")\n",
    "print(\"Selecione as opções abaixo: \")\n",
    "print(\"[1] - Café\")\n",
    "print(\"[2] - Capuccino\")\n",
    "print(\"[3] - Macchiato\")\n",
    "print(\"[4] - Expresso\")\n",
    "print(\"[5] - Chá\")\n",
    "opcao = input(\">>> \")\n"
   ]
  },
  {
   "cell_type": "code",
   "execution_count": 3,
   "id": "e65e937e",
   "metadata": {},
   "outputs": [
    {
     "name": "stdout",
     "output_type": "stream",
     "text": [
      "5\n"
     ]
    }
   ],
   "source": [
    "print(opcao)"
   ]
  },
  {
   "cell_type": "markdown",
   "id": "7d06df92",
   "metadata": {},
   "source": [
    "# LAÇO DE REPETIÇÃO"
   ]
  },
  {
   "cell_type": "code",
   "execution_count": 7,
   "id": "c1f5338a",
   "metadata": {},
   "outputs": [
    {
     "name": "stdout",
     "output_type": "stream",
     "text": [
      "=^^=\n",
      "=^^=\n",
      "=^^=\n",
      "=^^=\n",
      "=^^=\n",
      "=^^=\n",
      "=^^=\n",
      "=^^=\n",
      "=^^=\n",
      "=^^=\n"
     ]
    }
   ],
   "source": [
    "# Jeito cavalo de ser\n",
    "\n",
    "print('=^^=')\n",
    "print('=^^=')\n",
    "print('=^^=')\n",
    "print('=^^=')\n",
    "print('=^^=')\n",
    "print('=^^=')\n",
    "print('=^^=')\n",
    "print('=^^=')\n",
    "print('=^^=')\n",
    "print('=^^=')"
   ]
  },
  {
   "cell_type": "markdown",
   "id": "2dbbbac5",
   "metadata": {},
   "source": [
    "# ESTRUTURA DE REPETIÇÃO FOR\n",
    "\n",
    "**for** *variavel* **in** *ITERÁVEL*"
   ]
  },
  {
   "cell_type": "markdown",
   "id": "23a525bb",
   "metadata": {},
   "source": [
    "O **for** traduzido para o português fica:\n",
    "\n",
    "\"**Para cada elemento** (for) **dentro do**  *ITERÁVEL* salve temporariamente o valor contido no *ITERÁVEL* na 'variável'\"\n",
    "\n",
    "\"Execute o código abaixo o mesmo tanto vezes que o tamanho do ITERÁVEL\""
   ]
  },
  {
   "cell_type": "code",
   "execution_count": 8,
   "id": "22b0b595",
   "metadata": {},
   "outputs": [],
   "source": [
    "# iteráveis  --> (normalmente no plural)\n",
    "\n",
    "\n",
    "listas = [1,  \"texto\", []] # Listas aceitam quaisquer objetos que o python suporta - são mutáveis\n",
    "textos = \"O rato roeu a roupa do rei de roma\"\n",
    "tuplas = (1,  \"texto\", []) # tuplas aceitam quaisquer objetos que o python suporta - são imutáveis\n",
    "dicionario_de_uma_linha = {\"chave\": \"valor\", \"dog\": \"cachorro\"}\n",
    "dicionario_de_varias_linhas = {\n",
    "    \"chave\": \"valor\", \n",
    "    \"dog\": \"cachorro\"\n",
    "}\n",
    "alcance_escopo = range(10)\n"
   ]
  },
  {
   "cell_type": "markdown",
   "id": "851ec5ff",
   "metadata": {},
   "source": [
    "# TRABALHANDO OS DADOS\n",
    "\n",
    "* listas\n",
    "* textos (string)\n",
    "* tuplas\n",
    "* dicionário\n",
    "* range"
   ]
  },
  {
   "cell_type": "code",
   "execution_count": 9,
   "id": "f5069259",
   "metadata": {},
   "outputs": [
    {
     "name": "stdout",
     "output_type": "stream",
     "text": [
      "=^^=\n",
      "=^^=\n",
      "=^^=\n",
      "=^^=\n",
      "=^^=\n",
      "=^^=\n",
      "=^^=\n",
      "=^^=\n",
      "=^^=\n",
      "=^^=\n"
     ]
    }
   ],
   "source": [
    "for VARIAVEL in range(10):\n",
    "    print(\"=^^=\")"
   ]
  },
  {
   "cell_type": "code",
   "execution_count": 11,
   "id": "487b11d1",
   "metadata": {},
   "outputs": [
    {
     "name": "stdout",
     "output_type": "stream",
     "text": [
      "azeitona\n",
      "chocolate\n",
      "papel higiênico\n",
      "pasta de dente\n",
      "salgadinho\n",
      "carne moida\n"
     ]
    }
   ],
   "source": [
    "# Trabalhando com listas\n",
    "\n",
    "tamanho_minimo = 8\n",
    "compras = [\"arroz\", \"picanha\", \"azeitona\", \"chocolate\", \"feijão\", \"batata\", \"sushi\", \"papel higiênico\", \"pasta de dente\", \"vinho\", \"salgadinho\", \"carne moida\", \"leite\"]\n",
    "for item in compras:\n",
    "    if len(item) < tamanho_minimo:\n",
    "        pass\n",
    "    else:\n",
    "        print(item)\n",
    "        \n"
   ]
  },
  {
   "cell_type": "code",
   "execution_count": 31,
   "id": "466e9e15",
   "metadata": {},
   "outputs": [
    {
     "name": "stdout",
     "output_type": "stream",
     "text": [
      "toranja\n",
      "bergamota\n",
      "figo\n"
     ]
    }
   ],
   "source": [
    "# DESAFIO 1: Par, Impar\n",
    "\n",
    "# range(0, 51)\n",
    "\n",
    "\n",
    "\n",
    "#numero = range(0, 51) \n",
    "\n",
    "# numero = int(input('Digite um inteiro: '))\n",
    "# if (numero%2) == 0:\n",
    "#     print(\"Par\")\n",
    "# else:\n",
    "#     print(\"Ímpar\")\n",
    "\n",
    "# for numero in range(0, 51):\n",
    "#     if (numero%2) == 0:\n",
    "#         print(f\"{numero}, Par\")\n",
    "#     else:\n",
    "#         print(f\"{numero}, Ímpar\")\n",
    "\n",
    "frutas = [ \"toranja\", \"bergamota\", \"figo\"]   #range(0, 51):\n",
    "for fruta in frutas:\n",
    "    print(fruta)\n",
    "    \n"
   ]
  },
  {
   "cell_type": "markdown",
   "id": "43fa8578",
   "metadata": {},
   "source": [
    "# CRIANDO UM MENU"
   ]
  },
  {
   "cell_type": "code",
   "execution_count": 34,
   "id": "e14c0d4d",
   "metadata": {},
   "outputs": [
    {
     "name": "stdout",
     "output_type": "stream",
     "text": [
      "[1] - chá\n",
      "[2] - chocolate quente\n",
      "[3] - espresso\n",
      "[4] - capuccino\n",
      "[5] - pingado\n"
     ]
    }
   ],
   "source": [
    "# MENU de um restaurante\n",
    "\n",
    "opcoes = [\"chá\", \"chocolate quente\", \"espresso\", \"capuccino\", \"pingado\"] #variavel\n",
    "\n",
    "# for posicao, opcao in enumerate(opcoes):\n",
    "#     print(posicao+1, opcao)\n",
    "    \n",
    "for posicao, opcao in enumerate(opcoes):\n",
    "    print(f\"[{posicao + 1}] - {opcao}\")\n",
    "    \n",
    "pedido = input(\"Selecione uma das opções acima: \")\n"
   ]
  },
  {
   "cell_type": "code",
   "execution_count": null,
   "id": "9e8143fb",
   "metadata": {},
   "outputs": [],
   "source": []
  }
 ],
 "metadata": {
  "kernelspec": {
   "display_name": "Python 3 (ipykernel)",
   "language": "python",
   "name": "python3"
  },
  "language_info": {
   "codemirror_mode": {
    "name": "ipython",
    "version": 3
   },
   "file_extension": ".py",
   "mimetype": "text/x-python",
   "name": "python",
   "nbconvert_exporter": "python",
   "pygments_lexer": "ipython3",
   "version": "3.9.7"
  }
 },
 "nbformat": 4,
 "nbformat_minor": 5
}
