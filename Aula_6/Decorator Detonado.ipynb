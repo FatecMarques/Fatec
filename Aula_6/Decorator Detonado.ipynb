{
 "cells": [
  {
   "cell_type": "markdown",
   "id": "5197187d",
   "metadata": {},
   "source": [
    "# DECORATORS\n",
    "\n",
    "### Decoradores de função, modificadores de comportamento\n"
   ]
  },
  {
   "cell_type": "code",
   "execution_count": 1,
   "id": "7539f37a",
   "metadata": {},
   "outputs": [],
   "source": [
    "# Em termos de um Lambda\n",
    "\n",
    "uma_funcao = lambda : print"
   ]
  },
  {
   "cell_type": "code",
   "execution_count": 5,
   "id": "bccc57db",
   "metadata": {},
   "outputs": [
    {
     "data": {
      "text/plain": [
       "<function __main__.funcao_externa.<locals>.funcao_interna()>"
      ]
     },
     "execution_count": 5,
     "metadata": {},
     "output_type": "execute_result"
    }
   ],
   "source": [
    "# Em termos de uma função simples\n",
    "\n",
    "def funcao_externa(func):\n",
    "    def funcao_interna():\n",
    "        # coisas antes\n",
    "        func()\n",
    "        # coisas depois\n",
    "    return funcao_interna\n",
    "\n",
    "funcao_externa(print)"
   ]
  },
  {
   "cell_type": "code",
   "execution_count": 7,
   "id": "b1f18f0e",
   "metadata": {},
   "outputs": [],
   "source": [
    "# Em termos de decorator com a nomenclatura correta\n",
    "import functools  # Lib de ferramentas para acelerar funçoes\n",
    "from functools import cache    # só a função cache\n",
    "\n",
    "@functools.cache\n",
    "@cache                        # melhor forma de chamar ...\n",
    "def fibonacci():\n",
    "    pass\n",
    "\n",
    "fibonacci()"
   ]
  },
  {
   "cell_type": "markdown",
   "id": "2e135dbe",
   "metadata": {},
   "source": [
    "## Criando nosso decorator"
   ]
  },
  {
   "cell_type": "markdown",
   "id": "990c9499",
   "metadata": {},
   "source": [
    "### Criando uma função"
   ]
  },
  {
   "cell_type": "code",
   "execution_count": 12,
   "id": "c8439559",
   "metadata": {},
   "outputs": [
    {
     "ename": "TypeError",
     "evalue": "unsupported operand type(s) for +: 'int' and 'str'",
     "output_type": "error",
     "traceback": [
      "\u001b[1;31m---------------------------------------------------------------------------\u001b[0m",
      "\u001b[1;31mTypeError\u001b[0m                                 Traceback (most recent call last)",
      "\u001b[1;32mC:\\Users\\FATECS~1\\AppData\\Local\\Temp/ipykernel_10792/2931496237.py\u001b[0m in \u001b[0;36m<module>\u001b[1;34m\u001b[0m\n\u001b[0;32m      2\u001b[0m     \u001b[1;32mreturn\u001b[0m \u001b[0mval_1\u001b[0m \u001b[1;33m+\u001b[0m \u001b[0mval_2\u001b[0m\u001b[1;33m\u001b[0m\u001b[1;33m\u001b[0m\u001b[0m\n\u001b[0;32m      3\u001b[0m \u001b[1;33m\u001b[0m\u001b[0m\n\u001b[1;32m----> 4\u001b[1;33m \u001b[0msoma\u001b[0m\u001b[1;33m(\u001b[0m\u001b[1;36m1\u001b[0m\u001b[1;33m,\u001b[0m\u001b[1;34m\" 2\"\u001b[0m\u001b[1;33m)\u001b[0m\u001b[1;33m\u001b[0m\u001b[1;33m\u001b[0m\u001b[0m\n\u001b[0m",
      "\u001b[1;32mC:\\Users\\FATECS~1\\AppData\\Local\\Temp/ipykernel_10792/2931496237.py\u001b[0m in \u001b[0;36msoma\u001b[1;34m(val_1, val_2)\u001b[0m\n\u001b[0;32m      1\u001b[0m \u001b[1;32mdef\u001b[0m \u001b[0msoma\u001b[0m\u001b[1;33m(\u001b[0m\u001b[0mval_1\u001b[0m\u001b[1;33m,\u001b[0m \u001b[0mval_2\u001b[0m\u001b[1;33m)\u001b[0m\u001b[1;33m:\u001b[0m\u001b[1;33m\u001b[0m\u001b[1;33m\u001b[0m\u001b[0m\n\u001b[1;32m----> 2\u001b[1;33m     \u001b[1;32mreturn\u001b[0m \u001b[0mval_1\u001b[0m \u001b[1;33m+\u001b[0m \u001b[0mval_2\u001b[0m\u001b[1;33m\u001b[0m\u001b[1;33m\u001b[0m\u001b[0m\n\u001b[0m\u001b[0;32m      3\u001b[0m \u001b[1;33m\u001b[0m\u001b[0m\n\u001b[0;32m      4\u001b[0m \u001b[0msoma\u001b[0m\u001b[1;33m(\u001b[0m\u001b[1;36m1\u001b[0m\u001b[1;33m,\u001b[0m\u001b[1;34m\" 2\"\u001b[0m\u001b[1;33m)\u001b[0m\u001b[1;33m\u001b[0m\u001b[1;33m\u001b[0m\u001b[0m\n",
      "\u001b[1;31mTypeError\u001b[0m: unsupported operand type(s) for +: 'int' and 'str'"
     ]
    }
   ],
   "source": [
    "def piscina(val_1, val_2):\n",
    "    return val_1 + val_2\n",
    "    \n",
    "    \n",
    "soma(1,\" 2\")"
   ]
  },
  {
   "cell_type": "code",
   "execution_count": 15,
   "id": "bb8f16d6",
   "metadata": {},
   "outputs": [
    {
     "data": {
      "text/plain": [
       "\"Operação não suportada: unsupported operand type(s) for +: 'int' and 'str'\""
      ]
     },
     "execution_count": 15,
     "metadata": {},
     "output_type": "execute_result"
    }
   ],
   "source": [
    "# piscina - função que permite usuários utilizarem a piscina\n",
    "# Esta operação quer fazer o tratamento de possíveis erros sem quebra do código\n",
    "\n",
    "def piscina(val_1, val_2):\n",
    "    try:\n",
    "        return val_1 + val_2\n",
    "    except Exception as err:\n",
    "        # usuario entrou na piscina\n",
    "        return f\"Operação não suportada: {err}\"\n",
    "    \n",
    "piscina(1, \"2\")   # função interpretada pelo Jupter, falta declaração da variavel"
   ]
  },
  {
   "cell_type": "code",
   "execution_count": 25,
   "id": "131494c1",
   "metadata": {},
   "outputs": [
    {
     "name": "stdout",
     "output_type": "stream",
     "text": [
      "REALIZANDO EXAME\n"
     ]
    },
    {
     "ename": "TypeError",
     "evalue": "unsupported operand type(s) for +: 'int' and 'str'",
     "output_type": "error",
     "traceback": [
      "\u001b[1;31m---------------------------------------------------------------------------\u001b[0m",
      "\u001b[1;31mTypeError\u001b[0m                                 Traceback (most recent call last)",
      "\u001b[1;32mC:\\Users\\FATECS~1\\AppData\\Local\\Temp/ipykernel_10792/699165036.py\u001b[0m in \u001b[0;36m<module>\u001b[1;34m\u001b[0m\n\u001b[0;32m     13\u001b[0m \u001b[1;33m\u001b[0m\u001b[0m\n\u001b[0;32m     14\u001b[0m \u001b[1;33m\u001b[0m\u001b[0m\n\u001b[1;32m---> 15\u001b[1;33m \u001b[0mpaciente\u001b[0m\u001b[1;33m(\u001b[0m\u001b[1;36m2\u001b[0m\u001b[1;33m)\u001b[0m\u001b[1;33m\u001b[0m\u001b[1;33m\u001b[0m\u001b[0m\n\u001b[0m",
      "\u001b[1;32mC:\\Users\\FATECS~1\\AppData\\Local\\Temp/ipykernel_10792/699165036.py\u001b[0m in \u001b[0;36mmedico\u001b[1;34m(formulario)\u001b[0m\n\u001b[0;32m      4\u001b[0m     \u001b[1;32mdef\u001b[0m \u001b[0mmedico\u001b[0m\u001b[1;33m(\u001b[0m\u001b[0mformulario\u001b[0m\u001b[1;33m)\u001b[0m\u001b[1;33m:\u001b[0m          \u001b[1;31m# papeis do exame\u001b[0m\u001b[1;33m\u001b[0m\u001b[1;33m\u001b[0m\u001b[0m\n\u001b[0;32m      5\u001b[0m         \u001b[0mprint\u001b[0m\u001b[1;33m(\u001b[0m\u001b[1;34m\"REALIZANDO EXAME\"\u001b[0m\u001b[1;33m)\u001b[0m\u001b[1;33m\u001b[0m\u001b[1;33m\u001b[0m\u001b[0m\n\u001b[1;32m----> 6\u001b[1;33m         \u001b[0mpaciente\u001b[0m\u001b[1;33m(\u001b[0m\u001b[0mformulario\u001b[0m\u001b[1;33m)\u001b[0m\u001b[1;33m\u001b[0m\u001b[1;33m\u001b[0m\u001b[0m\n\u001b[0m\u001b[0;32m      7\u001b[0m         \u001b[0mprint\u001b[0m\u001b[1;33m(\u001b[0m\u001b[1;34m\"EXAME FINALIZADO\"\u001b[0m\u001b[1;33m)\u001b[0m\u001b[1;33m\u001b[0m\u001b[1;33m\u001b[0m\u001b[0m\n\u001b[0;32m      8\u001b[0m     \u001b[1;32mreturn\u001b[0m \u001b[0mmedico\u001b[0m\u001b[1;33m\u001b[0m\u001b[1;33m\u001b[0m\u001b[0m\n",
      "\u001b[1;32mC:\\Users\\FATECS~1\\AppData\\Local\\Temp/ipykernel_10792/699165036.py\u001b[0m in \u001b[0;36mpaciente\u001b[1;34m(formulario_preenchido)\u001b[0m\n\u001b[0;32m     10\u001b[0m \u001b[1;33m@\u001b[0m\u001b[0mexame\u001b[0m\u001b[1;33m\u001b[0m\u001b[1;33m\u001b[0m\u001b[0m\n\u001b[0;32m     11\u001b[0m \u001b[1;32mdef\u001b[0m \u001b[0mpaciente\u001b[0m\u001b[1;33m(\u001b[0m\u001b[0mformulario_preenchido\u001b[0m\u001b[1;33m)\u001b[0m\u001b[1;33m:\u001b[0m\u001b[1;33m\u001b[0m\u001b[1;33m\u001b[0m\u001b[0m\n\u001b[1;32m---> 12\u001b[1;33m     \u001b[1;36m1\u001b[0m \u001b[1;33m+\u001b[0m \u001b[1;34m\"1\"\u001b[0m\u001b[1;33m\u001b[0m\u001b[1;33m\u001b[0m\u001b[0m\n\u001b[0m\u001b[0;32m     13\u001b[0m \u001b[1;33m\u001b[0m\u001b[0m\n\u001b[0;32m     14\u001b[0m \u001b[1;33m\u001b[0m\u001b[0m\n",
      "\u001b[1;31mTypeError\u001b[0m: unsupported operand type(s) for +: 'int' and 'str'"
     ]
    }
   ],
   "source": [
    "# exame - função que verifica se o usuário está apto a nadar\n",
    "\n",
    "def exame(paciente):\n",
    "    def medico(formulario):          # papeis do exame\n",
    "        print(\"REALIZANDO EXAME\")\n",
    "        paciente(formulario)\n",
    "        print(\"EXAME FINALIZADO\")\n",
    "    return medico    \n",
    "    \n",
    "@exame    \n",
    "def paciente(formulario_preenchido):\n",
    "    1 + \"1\"\n",
    "\n",
    "\n",
    "paciente(2)"
   ]
  },
  {
   "cell_type": "markdown",
   "id": "ff0096f7",
   "metadata": {},
   "source": [
    "### Entendendo mais sobre funções"
   ]
  },
  {
   "cell_type": "markdown",
   "id": "158f3948",
   "metadata": {},
   "source": [
    "* Função com parâmetro"
   ]
  },
  {
   "cell_type": "code",
   "execution_count": 26,
   "id": "db84ffa4",
   "metadata": {},
   "outputs": [],
   "source": [
    "def func(param):    # valor rígido\n",
    "    pass\n"
   ]
  },
  {
   "cell_type": "markdown",
   "id": "23216d22",
   "metadata": {},
   "source": [
    "* Função sem parâmetro"
   ]
  },
  {
   "cell_type": "code",
   "execution_count": 27,
   "id": "6b47a843",
   "metadata": {},
   "outputs": [],
   "source": [
    "def func():    # sem valor\n",
    "    pass"
   ]
  },
  {
   "cell_type": "markdown",
   "id": "29450e59",
   "metadata": {},
   "source": [
    "* Função dinâmica"
   ]
  },
  {
   "cell_type": "code",
   "execution_count": 32,
   "id": "d1e1a388",
   "metadata": {},
   "outputs": [
    {
     "name": "stdout",
     "output_type": "stream",
     "text": [
      "4\n",
      "1\n",
      "texto\n"
     ]
    }
   ],
   "source": [
    "def func(*args):                       # * é um desempacotador - \"args\" variavel convencional\n",
    "    for valor in args:                 # esta variavel é generica\n",
    "        print(valor)\n",
    "        \n",
    "\n",
    "func(4, 1, \"texto\")"
   ]
  },
  {
   "cell_type": "code",
   "execution_count": 34,
   "id": "3bf3416e",
   "metadata": {},
   "outputs": [
    {
     "name": "stdout",
     "output_type": "stream",
     "text": [
      "Essa é a chave: nome\n",
      "E esse é o valor cavalo\n"
     ]
    }
   ],
   "source": [
    "def func2(**kwargs):\n",
    "    for chave, valor in kwargs.items():\n",
    "        print(f\"Essa é a chave: {chave}\")\n",
    "        print(f\"E esse é o valor {valor}\")\n",
    "        \n",
    "        \n",
    "func2(nome=\"cavalo\")"
   ]
  },
  {
   "cell_type": "code",
   "execution_count": 35,
   "id": "007b7fbd",
   "metadata": {},
   "outputs": [
    {
     "name": "stdout",
     "output_type": "stream",
     "text": [
      "Requirement already satisfied: Flask in c:\\users\\fatecsdp-ti\\anaconda3\\lib\\site-packages (1.1.2)\n",
      "Requirement already satisfied: itsdangerous>=0.24 in c:\\users\\fatecsdp-ti\\anaconda3\\lib\\site-packages (from Flask) (2.0.1)\n",
      "Requirement already satisfied: Jinja2>=2.10.1 in c:\\users\\fatecsdp-ti\\anaconda3\\lib\\site-packages (from Flask) (2.11.3)\n",
      "Requirement already satisfied: click>=5.1 in c:\\users\\fatecsdp-ti\\anaconda3\\lib\\site-packages (from Flask) (8.0.3)\n",
      "Requirement already satisfied: Werkzeug>=0.15 in c:\\users\\fatecsdp-ti\\anaconda3\\lib\\site-packages (from Flask) (2.0.2)\n",
      "Requirement already satisfied: colorama in c:\\users\\fatecsdp-ti\\anaconda3\\lib\\site-packages (from click>=5.1->Flask) (0.4.4)\n",
      "Requirement already satisfied: MarkupSafe>=0.23 in c:\\users\\fatecsdp-ti\\anaconda3\\lib\\site-packages (from Jinja2>=2.10.1->Flask) (1.1.1)\n"
     ]
    }
   ],
   "source": [
    "!pip install Flask"
   ]
  },
  {
   "cell_type": "code",
   "execution_count": null,
   "id": "ac1e3937",
   "metadata": {},
   "outputs": [],
   "source": []
  }
 ],
 "metadata": {
  "kernelspec": {
   "display_name": "Python 3 (ipykernel)",
   "language": "python",
   "name": "python3"
  },
  "language_info": {
   "codemirror_mode": {
    "name": "ipython",
    "version": 3
   },
   "file_extension": ".py",
   "mimetype": "text/x-python",
   "name": "python",
   "nbconvert_exporter": "python",
   "pygments_lexer": "ipython3",
   "version": "3.9.7"
  }
 },
 "nbformat": 4,
 "nbformat_minor": 5
}
