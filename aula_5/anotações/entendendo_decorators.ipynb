{
 "cells": [
  {
   "cell_type": "markdown",
   "id": "75cef61a",
   "metadata": {},
   "source": [
    "# DECORATORS\n",
    "\n",
    "* O que são decorators?\n",
    "* Como aplicar decorators?\n",
    "* Decorator como classe\n",
    "* Flask"
   ]
  },
  {
   "cell_type": "markdown",
   "id": "51765fa8",
   "metadata": {},
   "source": [
    "Em nível de função lambda, segue o exemplo:"
   ]
  },
  {
   "cell_type": "code",
   "execution_count": 5,
   "id": "3fb1d4dc",
   "metadata": {},
   "outputs": [
    {
     "name": "stdout",
     "output_type": "stream",
     "text": [
      "Cavalo!\n"
     ]
    }
   ],
   "source": [
    "# Uma função que retorna outra função\n",
    "pegar_cep = lambda : print\n",
    "pegar_cep()(\"Cavalo!\")  # O pegar_cep() é convertido para (f) print"
   ]
  },
  {
   "cell_type": "markdown",
   "id": "85134519",
   "metadata": {},
   "source": [
    "### CRIANDO FUNÇÕES"
   ]
  },
  {
   "cell_type": "code",
   "execution_count": 6,
   "id": "78cc51f7",
   "metadata": {},
   "outputs": [],
   "source": [
    "def func():\n",
    "    pass\n"
   ]
  },
  {
   "cell_type": "markdown",
   "id": "f34eddef",
   "metadata": {},
   "source": [
    "#### * Função que retorna valor"
   ]
  },
  {
   "cell_type": "code",
   "execution_count": 8,
   "id": "79c1ecaf",
   "metadata": {},
   "outputs": [
    {
     "data": {
      "text/plain": [
       "'Valor retornado'"
      ]
     },
     "execution_count": 8,
     "metadata": {},
     "output_type": "execute_result"
    }
   ],
   "source": [
    "def retorna_valor():\n",
    "    return \"Valor retornado\"\n",
    "\n",
    "retorna_valor()"
   ]
  },
  {
   "cell_type": "markdown",
   "id": "ef015fe4",
   "metadata": {},
   "source": [
    "#### * Função que recebe e retorna valores\n",
    "\n",
    "* Função com parâmetro(s): Fução com variável"
   ]
  },
  {
   "cell_type": "code",
   "execution_count": 10,
   "id": "f8111c88",
   "metadata": {},
   "outputs": [
    {
     "name": "stdout",
     "output_type": "stream",
     "text": [
      "FatecFatecFatec\n",
      "6\n"
     ]
    }
   ],
   "source": [
    "def func2(parametro):  # Parametro -> que é o mesmo que variável\n",
    "    return parametro * 3\n",
    "\n",
    "print(func2(\"Fatec\"))  # Argumento -> que é valor literal\n",
    "print(func2(2))"
   ]
  },
  {
   "cell_type": "code",
   "execution_count": 13,
   "id": "3db627ad",
   "metadata": {},
   "outputs": [],
   "source": [
    "# Crie uma função que quando chamada e passado um valor\n",
    "# se inteiro retorne o mesmo -1 (menos um, 5 -> 4)\n",
    "# se o valor passado for um float trunkate (ex. 1.2 -> trunkate -> 1)\n",
    "# se o valor passado for texto retorne :)"
   ]
  },
  {
   "cell_type": "code",
   "execution_count": 19,
   "id": "6278ff81",
   "metadata": {},
   "outputs": [
    {
     "data": {
      "text/plain": [
       "':)'"
      ]
     },
     "execution_count": 19,
     "metadata": {},
     "output_type": "execute_result"
    }
   ],
   "source": [
    "#  Exercício\n",
    "\n",
    "def fatec(parametro):\n",
    "    if type(parametro) == int:\n",
    "        return parametro - 1\n",
    "    elif type(parametro) == float:\n",
    "        return int(parametro)  # Ou round(parametro)\n",
    "    else:\n",
    "        return \":)\"\n",
    "\n",
    "fatec(\"texto\")"
   ]
  },
  {
   "cell_type": "code",
   "execution_count": 15,
   "id": "2c82c4eb",
   "metadata": {},
   "outputs": [],
   "source": [
    "# Crie uma função que retorne 6 valores aleatórios"
   ]
  },
  {
   "cell_type": "code",
   "execution_count": 23,
   "id": "bbef2515",
   "metadata": {},
   "outputs": [
    {
     "data": {
      "text/plain": [
       "[16, 28, 32, 37, 42, 60]"
      ]
     },
     "execution_count": 23,
     "metadata": {},
     "output_type": "execute_result"
    }
   ],
   "source": [
    "import random\n",
    "def mega_sena():\n",
    "    digitos = []\n",
    "    for i in range(6):\n",
    "        digitos.append(random.randint(1,60))\n",
    "    digitos.sort() # OU (reverse=True)\n",
    "    return digitos\n",
    "\n",
    "mega_sena()    \n"
   ]
  },
  {
   "cell_type": "code",
   "execution_count": null,
   "id": "c51b7f6c",
   "metadata": {},
   "outputs": [],
   "source": []
  }
 ],
 "metadata": {
  "kernelspec": {
   "display_name": "Python 3 (ipykernel)",
   "language": "python",
   "name": "python3"
  },
  "language_info": {
   "codemirror_mode": {
    "name": "ipython",
    "version": 3
   },
   "file_extension": ".py",
   "mimetype": "text/x-python",
   "name": "python",
   "nbconvert_exporter": "python",
   "pygments_lexer": "ipython3",
   "version": "3.9.7"
  }
 },
 "nbformat": 4,
 "nbformat_minor": 5
}
